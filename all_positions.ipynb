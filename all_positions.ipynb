{
 "cells": [
  {
   "cell_type": "code",
   "execution_count": 1,
   "id": "2cf5c4c2",
   "metadata": {},
   "outputs": [],
   "source": [
    "import scipy.io\n",
    "import pandas as pd\n",
    "import os\n",
    "import numpy as np\n",
    "from scipy.signal import butter, filtfilt, welch\n",
    "import matplotlib.pyplot as plt\n",
    "from sklearn.preprocessing import StandardScaler\n",
    "from statistics import mode\n",
    "from sklearn.svm import SVC\n",
    "from sklearn.metrics import confusion_matrix, classification_report\n",
    "from sklearn.model_selection import LeaveOneGroupOut\n",
    "import seaborn as sns\n",
    "from matplotlib.ticker import MaxNLocator\n",
    "from sklearn.metrics import accuracy_score"
   ]
  },
  {
   "cell_type": "markdown",
   "id": "2d1baa6c",
   "metadata": {},
   "source": [
    "### Import files"
   ]
  },
  {
   "cell_type": "code",
   "execution_count": 2,
   "id": "471b82b0",
   "metadata": {},
   "outputs": [],
   "source": [
    "folder_path = os.getcwd() + '\\\\dataset\\\\'\n",
    "files = os.listdir(folder_path)\n",
    "\n",
    "#Get all files related to all sensor positions\n",
    "sensor_files = [file for file in files if file.endswith('.mat') and 'truth' not in file]\n",
    "truth_files = [file for file in files if file.endswith('truth.mat')]  "
   ]
  },
  {
   "cell_type": "code",
   "execution_count": 3,
   "id": "7bac6939",
   "metadata": {},
   "outputs": [],
   "source": [
    "data_frames = []\n",
    "df_names = ['df1','df2','df3','df4','df5','df6','df7','df8','df9','df10']\n",
    "\n",
    "for candidate in range(1, 11):  # 10 candidates\n",
    "    candidate_files = [file for file in sensor_files if f'subject_{candidate}_' in file]\n",
    "    truth_file = [file for file in truth_files if f'subject_{candidate}_ground' in file][0]\n",
    "\n",
    "    candidate_data = []\n",
    "    for file_name in candidate_files:\n",
    "        data = scipy.io.loadmat(folder_path + file_name)\n",
    "        x = data['x'].ravel()\n",
    "        x, y, z = np.array_split(x, 3)\n",
    "        candidate_data.append((x, y, z))\n",
    "\n",
    "    t = data['t'].ravel()  # t is the same for all sensor positions\n",
    "\n",
    "    truth_data = scipy.io.loadmat(folder_path + truth_file)\n",
    "    label = truth_data['label'].ravel()\n",
    "    label = [x[0] for x in label]\n",
    "\n",
    "    df_name = f'df{candidate}'\n",
    "    df = pd.DataFrame({'t': t})\n",
    "    for i, sensor_position in enumerate(candidate_data):\n",
    "        for j, axis in enumerate(['x', 'y', 'z']):\n",
    "            df[f'{axis}_{i+1}'] = sensor_position[j]\n",
    "    df['activity'] = label\n",
    "\n",
    "    data_frames.append(df)\n",
    "    globals()[df_name] = df\n",
    "\n",
    "for df_name in df_names:\n",
    "    df = globals()[df_name]\n",
    "    df['activity'] = df['activity'].replace('upsatirs', 'upstairs')\n",
    "    globals()[df_name] = df"
   ]
  },
  {
   "cell_type": "markdown",
   "id": "50f0c22f",
   "metadata": {},
   "source": [
    "### Preprocessing"
   ]
  },
  {
   "cell_type": "markdown",
   "id": "742b2150",
   "metadata": {},
   "source": [
    "#### Convert 3D accelerometer signal to 1D"
   ]
  },
  {
   "cell_type": "code",
   "execution_count": 4,
   "id": "0a60e449",
   "metadata": {},
   "outputs": [],
   "source": [
    "for df_name in df_names:\n",
    "    df = globals()[df_name]\n",
    "    \n",
    "    for i in range(1, 6):  # Iterate for each sensor position\n",
    "        # Calculate the magnitude of the acceleration for each sensor position\n",
    "        acc_mag = np.sqrt(df[f'x_{i}']**2 + df[f'y_{i}']**2 + df[f'z_{i}']**2)\n",
    "        df[f'acc_mag{i}'] = acc_mag\n",
    "    \n",
    "    globals()[df_name] = df"
   ]
  },
  {
   "cell_type": "code",
   "execution_count": 5,
   "id": "e42816a8",
   "metadata": {},
   "outputs": [],
   "source": [
    "# Delete x,y,z columns\n",
    "for df_name in df_names:\n",
    "    df = globals()[df_name]\n",
    "    \n",
    "    # Keep only the 'acc_mag', 'activity', and 't' columns\n",
    "    df = df[['t', 'activity', 'acc_mag1', 'acc_mag2', 'acc_mag3', 'acc_mag4', 'acc_mag5']]\n",
    "    \n",
    "    globals()[df_name] = df"
   ]
  },
  {
   "cell_type": "markdown",
   "id": "4e888bf5",
   "metadata": {},
   "source": [
    "#### Replace sensor errors with previous value"
   ]
  },
  {
   "cell_type": "code",
   "execution_count": 6,
   "id": "d42f64e1",
   "metadata": {},
   "outputs": [],
   "source": [
    "for df_name in df_names:\n",
    "    df = globals()[df_name]\n",
    "    for i in range(1, 6):\n",
    "        error_values = df[f'acc_mag{i}'] > 1000\n",
    "        df.loc[error_values, f'acc_mag{i}'] = df[f'acc_mag{i}'].shift(1)[error_values]"
   ]
  },
  {
   "cell_type": "markdown",
   "id": "b48adbd8",
   "metadata": {},
   "source": [
    "#### Apply high-pass Butterworth filter"
   ]
  },
  {
   "cell_type": "code",
   "execution_count": 7,
   "id": "7a2b9a1f",
   "metadata": {},
   "outputs": [],
   "source": [
    "samp_freq = 100\n",
    "cut_freq = 1\n",
    "nyq_freq = 0.5 * samp_freq\n",
    "\n",
    "# Normalize the cutoff frequency\n",
    "cutoff = cut_freq / nyq_freq\n",
    "# Butterworth filter with order=4\n",
    "b, a = butter(4, cutoff, btype='highpass')\n",
    "\n",
    "# Apply filter to each dataframe\n",
    "for df_name in df_names:\n",
    "    df = globals()[df_name].copy()  # Create a copy of the dataframe, otherwise we receive warnings\n",
    "    for i in range(1, 6):\n",
    "        acc_mag = df[f'acc_mag{i}']\n",
    "        acc_mag_filt = filtfilt(b, a, acc_mag)\n",
    "        df[f'acc_mag{i}_filt'] = acc_mag_filt\n",
    "    \n",
    "    globals()[df_name] = df  # Update the dataframe"
   ]
  },
  {
   "cell_type": "markdown",
   "id": "93538011",
   "metadata": {},
   "source": [
    "### Feature extraction"
   ]
  },
  {
   "cell_type": "code",
   "execution_count": 8,
   "id": "029d57fc",
   "metadata": {},
   "outputs": [],
   "source": [
    "window_len = 100    # 1 second with a sampling frequency of 100 Hz\n",
    "windows_step = 100  # 1 second with a step of 1 second\n",
    "num_frequency_bands = 10\n",
    "band_limits = [nyq_freq / 2 ** (num_frequency_bands - i) for i in range(num_frequency_bands)]\n",
    "\n",
    "data_frames_processed = []\n",
    "dfs_processed = {}\n",
    "\n",
    "for i, df_name in enumerate(df_names):\n",
    "    df = globals()[df_name]\n",
    "    features = []\n",
    "    labels = []\n",
    "\n",
    "    for j in range(0, len(df)-window_len+1, windows_step):\n",
    "        window_features = []\n",
    "        window_labels = []\n",
    "\n",
    "        for k in range(1, 6):\n",
    "            acc_mag_filt = df[f'acc_mag{k}_filt'][j:j+window_len]\n",
    "            freq, power_spectrum = welch(acc_mag_filt, fs=100, nperseg=window_len, noverlap=0)\n",
    "\n",
    "            power_in_bands = [] # power in each frequency band\n",
    "            for l in range(len(band_limits)):\n",
    "                freqs_in_band = np.where((freq >= band_limits[l]) & (freq < band_limits[l+1]))[0] if l < len(band_limits)-1 else np.where(freq >= band_limits[l])[0]\n",
    "                power_in_bands.append(np.sum(power_spectrum[freqs_in_band]))\n",
    "\n",
    "            window_features.extend(power_in_bands)\n",
    "\n",
    "            window_labels.extend(df['activity'][j:j+window_len].values)\n",
    "\n",
    "        features.append(window_features)\n",
    "\n",
    "        label = mode(window_labels)\n",
    "        labels.append(label)\n",
    "\n",
    "    # Normalize features\n",
    "    scaler = StandardScaler()\n",
    "    normalized_features = scaler.fit_transform(features)\n",
    "\n",
    "    # Create new dataframe with windowed features and labels\n",
    "    df_processed = pd.DataFrame(normalized_features, columns=['f' + str(k) for k in range(len(normalized_features[0]))])\n",
    "    df_processed['activity'] = labels\n",
    "\n",
    "    # Append dataframe to list\n",
    "    data_frames_processed.append(df_processed)\n",
    "    dfs_processed[f'df_p{i+1}'] = df_processed\n",
    "\n",
    "\n",
    "# Create new dataframe variables\n",
    "for i, key in enumerate(dfs_processed.keys()):\n",
    "    name = f\"df_p{i+1}\"\n",
    "    globals()[name] = dfs_processed[key]\n"
   ]
  },
  {
   "cell_type": "markdown",
   "id": "413092c8",
   "metadata": {},
   "source": [
    "### LOSO training using SVM classifier"
   ]
  },
  {
   "cell_type": "code",
   "execution_count": 9,
   "id": "80dfc4b9",
   "metadata": {},
   "outputs": [],
   "source": [
    "logo = LeaveOneGroupOut()\n",
    "\n",
    "X = pd.concat([df.iloc[:, :-1] for df in data_frames_processed])\n",
    "y = pd.concat([df['activity'] for df in data_frames_processed])\n",
    "groups = ['p1']*len(df_p1) + ['p2']*len(df_p2) + ['p3']*len(df_p3) + ['p4']*len(df_p4) + ['p5']*len(df_p5) + ['p6']*len(df_p6) + ['p7']*len(df_p7) + ['p8']*len(df_p8) + ['p9']*len(df_p9) + ['p10']*len(df_p10)"
   ]
  },
  {
   "cell_type": "code",
   "execution_count": 24,
   "id": "554134fb",
   "metadata": {},
   "outputs": [
    {
     "name": "stdout",
     "output_type": "stream",
     "text": [
      "              precision    recall  f1-score   support\n",
      "\n",
      "      biking       0.80      0.65      0.72       900\n",
      "  downstairs       0.83      0.77      0.80       900\n",
      "     jogging       0.80      0.74      0.77       900\n",
      "     sitting       0.67      0.85      0.75       900\n",
      "    standing       1.00      0.99      0.99       900\n",
      "    upstairs       0.94      0.97      0.96       900\n",
      "     walking       0.79      0.83      0.81       900\n",
      "\n",
      "    accuracy                           0.83      6300\n",
      "   macro avg       0.83      0.83      0.83      6300\n",
      "weighted avg       0.83      0.83      0.83      6300\n",
      "\n"
     ]
    }
   ],
   "source": [
    "confusion_matrices = []\n",
    "accuracies = []\n",
    "for train_index, test_index in logo.split(X, y, groups=groups):\n",
    "    X_train, X_test = X.iloc[train_index], X.iloc[test_index]\n",
    "    y_train, y_test = y.iloc[train_index], y.iloc[test_index]\n",
    "    \n",
    "    p = X_train.shape[1]\n",
    "    gamma = 1/p\n",
    "    \n",
    "    clf = SVC(kernel='rbf', C=1, gamma=gamma)\n",
    "    clf.fit(X_train, y_train)\n",
    "    y_pred = clf.predict(X_test)\n",
    "    \n",
    "    cm = confusion_matrix(y_test, y_pred, normalize='true')*100\n",
    "    confusion_matrices.append(cm)\n",
    "    \n",
    "    accuracy = accuracy_score(y_test, y_pred)\n",
    "    accuracies.append(accuracy)\n",
    "    \n",
    "final_cm = sum(confusion_matrices)\n",
    "summarized_accuracy = np.mean(accuracies)\n",
    "print(classification_report(y, clf.predict(X)))"
   ]
  },
  {
   "cell_type": "code",
   "execution_count": 21,
   "id": "9d02f0d3",
   "metadata": {},
   "outputs": [
    {
     "name": "stdout",
     "output_type": "stream",
     "text": [
      "Accuracy: 76.90%\n"
     ]
    }
   ],
   "source": [
    "print(f\"Accuracy: {summarized_accuracy:.2%}\")"
   ]
  },
  {
   "cell_type": "code",
   "execution_count": 22,
   "id": "1bd4b9ee",
   "metadata": {},
   "outputs": [
    {
     "data": {
      "image/png": "[encoded data removed]",
      "text/plain": [
       "<Figure size 640x480 with 2 Axes>"
      ]
     },
     "metadata": {},
     "output_type": "display_data"
    }
   ],
   "source": [
    "classes = np.unique(y)\n",
    "norm_cm = final_cm / final_cm.sum(axis=1, keepdims=True)\n",
    "fig, ax = plt.subplots()\n",
    "im = ax.imshow(norm_cm, cmap='Blues')\n",
    "ax.set_xticks(np.arange(len(classes)))\n",
    "ax.set_yticks(np.arange(len(classes)))\n",
    "ax.set_xticklabels(classes)\n",
    "ax.set_yticklabels(classes)\n",
    "plt.setp(ax.get_xticklabels(), rotation=45, ha=\"right\",\n",
    "         rotation_mode=\"anchor\")\n",
    "for i in range(len(classes)):\n",
    "    for j in range(len(classes)):\n",
    "        text = ax.text(j, i, format(norm_cm[i, j], '.2f'),\n",
    "                       ha=\"center\", va=\"center\", color=\"white\" if norm_cm[i, j] > 0.5 else \"black\");\n",
    "cbar = ax.figure.colorbar(im, ax=ax)\n",
    "fig.tight_layout()\n",
    "plt.xlabel('Predicted Label')\n",
    "plt.ylabel('True Label')\n",
    "plt.savefig('confusion_matrix_all_positions.png', bbox_inches='tight')"
   ]
  }
 ],
 "metadata": {
  "kernelspec": {
   "display_name": "Python 3 (ipykernel)",
   "language": "python",
   "name": "python3"
  },
  "language_info": {
   "codemirror_mode": {
    "name": "ipython",
    "version": 3
   },
   "file_extension": ".py",
   "mimetype": "text/x-python",
   "name": "python",
   "nbconvert_exporter": "python",
   "pygments_lexer": "ipython3",
   "version": "3.9.12"
  }
 },
 "nbformat": 4,
 "nbformat_minor": 5
}
